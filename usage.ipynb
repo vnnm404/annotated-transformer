{
 "cells": [
  {
   "cell_type": "markdown",
   "metadata": {},
   "source": [
    "# Dataset & Dataloader"
   ]
  },
  {
   "cell_type": "code",
   "execution_count": 1,
   "metadata": {},
   "outputs": [],
   "source": [
    "import torch\n",
    "import numpy as np\n",
    "import pandas as pd\n",
    "from tqdm import tqdm"
   ]
  },
  {
   "cell_type": "code",
   "execution_count": 2,
   "metadata": {},
   "outputs": [],
   "source": [
    "import torch\n",
    "from torch.utils.data import Dataset, DataLoader\n",
    "import pandas as pd\n",
    "from torch.nn.utils.rnn import pad_sequence\n",
    "\n",
    "class TextDataset(Dataset):\n",
    "    def __init__(self, file_path):\n",
    "        data = pd.read_csv(file_path)\n",
    "        sentences = data['Sentence'].tolist()\n",
    "        transformed_sentences = data['Transformed sentence'].tolist()\n",
    "\n",
    "        char_to_index = lambda char: ord(char) - ord('a')\n",
    "        self.indexed_sentences = [[char_to_index(char) for char in sentence] for sentence in sentences]\n",
    "        self.indexed_transformed_sentences = [[26] + [char_to_index(char) for char in transformed_sentence] for transformed_sentence in transformed_sentences]\n",
    "\n",
    "    def __len__(self):\n",
    "        return len(self.indexed_sentences)\n",
    "\n",
    "    def __getitem__(self, idx):\n",
    "        sentence = torch.tensor(self.indexed_sentences[idx], dtype=torch.long)\n",
    "        transformed_sentence = torch.tensor(self.indexed_transformed_sentences[idx], dtype=torch.long)\n",
    "        return sentence, transformed_sentence\n",
    "\n",
    "def get_dataloader(file_path, batch_size):\n",
    "    dataset = TextDataset(file_path=file_path)\n",
    "    dataloader = DataLoader(dataset, batch_size=batch_size, shuffle=False)\n",
    "    return dataloader"
   ]
  },
  {
   "cell_type": "code",
   "execution_count": 3,
   "metadata": {},
   "outputs": [
    {
     "name": "stdout",
     "output_type": "stream",
     "text": [
      "torch.Size([5, 8]) torch.Size([5, 9])\n"
     ]
    }
   ],
   "source": [
    "file_path = './data/train_data.csv'\n",
    "for src, tgt in get_dataloader(file_path, batch_size=5):\n",
    "    print(src.shape, tgt.shape)\n",
    "    break"
   ]
  },
  {
   "cell_type": "code",
   "execution_count": 4,
   "metadata": {},
   "outputs": [
    {
     "name": "stdout",
     "output_type": "stream",
     "text": [
      "cuda\n"
     ]
    }
   ],
   "source": [
    "device = torch.device('cuda' if torch.cuda.is_available() else 'cpu')\n",
    "print(device)"
   ]
  },
  {
   "cell_type": "markdown",
   "metadata": {},
   "source": [
    "# Model Architecture"
   ]
  },
  {
   "cell_type": "code",
   "execution_count": 5,
   "metadata": {},
   "outputs": [],
   "source": [
    "import math\n",
    "import torch\n",
    "import torch.nn as nn\n",
    "from torch import optim\n",
    "import torch.nn.functional as F"
   ]
  },
  {
   "cell_type": "code",
   "execution_count": 6,
   "metadata": {},
   "outputs": [],
   "source": [
    "import torch\n",
    "import torch.nn as nn\n",
    "from transformer.transformer import Transformer\n",
    "\n",
    "class Freddy(nn.Module):\n",
    "    def __init__(self, d_model, nhead, num_encoder_layers, num_decoder_layers, ffn_hidden, vocab_size, max_seq_len):\n",
    "        super(Freddy, self).__init__()\n",
    "\n",
    "        self.src_embedding = nn.Embedding(vocab_size, d_model)\n",
    "        self.tgt_embedding = nn.Embedding(vocab_size, d_model)\n",
    "        self.positional_embeddings = nn.Embedding(max_seq_len, d_model)\n",
    "\n",
    "        self.transformer = Transformer(d_model, nhead, num_encoder_layers, num_decoder_layers, ffn_hidden, dropout=None)\n",
    "        self.linear = nn.Linear(d_model, vocab_size)\n",
    "\n",
    "    def forward(self, src, tgt, use_mask=True):\n",
    "        src_positions = torch.arange(src.size(1)).unsqueeze(0).expand(src.size(0), -1).to(src.device)\n",
    "        tgt_positions = torch.arange(tgt.size(1)).unsqueeze(0).expand(tgt.size(0), -1).to(tgt.device)\n",
    "\n",
    "        src = self.src_embedding(src) + self.positional_embeddings(src_positions)\n",
    "        tgt = self.tgt_embedding(tgt) + self.positional_embeddings(tgt_positions)\n",
    "\n",
    "        tgt_mask = self.transformer.generate_square_subsequent_mask(tgt.size(1)).to(tgt.device)\n",
    "        output = self.transformer(src, tgt, tgt_mask=tgt_mask)\n",
    "        \n",
    "        output = self.linear(output)\n",
    "\n",
    "        return output\n",
    "    \n",
    "    def predict(self, src, n=8):\n",
    "        self.eval()\n",
    "        device = next(self.parameters()).device\n",
    "        src = torch.tensor([ord(char) - ord('a') for char in src], dtype=torch.long).unsqueeze(0).to(device)\n",
    "        tgt = torch.tensor([[26]], dtype=torch.long).to(device)\n",
    "\n",
    "        output_str = \"\"\n",
    "        with torch.no_grad():\n",
    "            for _ in range(n):\n",
    "                logits = self(src, tgt).squeeze(0)\n",
    "                predicted_index = torch.argmax(logits, dim=1)\n",
    "                next_character = 'a' if predicted_index[-1].item() == 26 else chr(predicted_index[-1].item() + ord('a'))\n",
    "                output_str += next_character\n",
    "                tgt = torch.cat((tgt, predicted_index[-1].unsqueeze(0).unsqueeze(0)), dim=1)\n",
    "\n",
    "        return ''.join([chr(token + ord('a')) if token != 26 else 'a' for token in tgt[0].cpu().numpy()])[1:]"
   ]
  },
  {
   "cell_type": "code",
   "execution_count": 7,
   "metadata": {},
   "outputs": [
    {
     "name": "stdout",
     "output_type": "stream",
     "text": [
      "torch.Size([5, 8]) torch.Size([5, 8])\n"
     ]
    },
    {
     "name": "stdout",
     "output_type": "stream",
     "text": [
      "torch.Size([5, 8, 27])\n",
      "kvakwwww\n"
     ]
    }
   ],
   "source": [
    "src_vocab_size = 26\n",
    "tgt_vocab_size = src_vocab_size + 1  # add the <s> token\n",
    "d_model = 64\n",
    "ffn_hidden = 256\n",
    "nhead = 4\n",
    "num_encoder_layers = num_decoder_layers = 2\n",
    "\n",
    "fredbear = Freddy(\n",
    "    d_model=d_model,\n",
    "    nhead=nhead,\n",
    "    num_encoder_layers=num_encoder_layers,\n",
    "    num_decoder_layers=num_decoder_layers,\n",
    "    ffn_hidden=ffn_hidden,\n",
    "    vocab_size=tgt_vocab_size,\n",
    "    max_seq_len=1024\n",
    ").to(device)\n",
    "\n",
    "for src, tgt in get_dataloader(file_path, batch_size=5):\n",
    "    src, tgt = src.to(device), tgt.to(device)\n",
    "\n",
    "    tgt_input = tgt[:, :-1]\n",
    "    tgt_output = tgt[:, 1:]\n",
    "\n",
    "    print(src.shape, tgt_input.shape)\n",
    "\n",
    "    output = fredbear(src, tgt_input)\n",
    "    print(output.shape)\n",
    "\n",
    "    print(fredbear.predict(\"abcdabcd\"))\n",
    "    break"
   ]
  },
  {
   "cell_type": "markdown",
   "metadata": {},
   "source": [
    "# Training"
   ]
  },
  {
   "cell_type": "code",
   "execution_count": 8,
   "metadata": {},
   "outputs": [],
   "source": [
    "def train_step(model, train_loader, criterion, optimizer):\n",
    "    model.train()\n",
    "    total_loss = 0\n",
    "    # for src, tgt in tqdm(train_loader, desc='Train'):\n",
    "    for src, tgt in train_loader:\n",
    "        src, tgt = src.to(device), tgt.to(device)\n",
    "        tgt_input = tgt[:, :-1]\n",
    "        tgt_output = tgt[:, 1:]\n",
    "\n",
    "        optimizer.zero_grad()\n",
    "\n",
    "        output = model(src, tgt_input)\n",
    "\n",
    "        loss = criterion(output.reshape(-1, output.size(-1)), tgt_output.reshape(-1))\n",
    "        loss.backward()\n",
    "\n",
    "        optimizer.step()\n",
    "        total_loss += loss.item()\n",
    "\n",
    "    total_loss /= len(train_loader)\n",
    "    return total_loss\n",
    "\n",
    "def eval_step(model, eval_loader, criterion):\n",
    "    model.eval()\n",
    "    total_loss = 0\n",
    "    score = 0\n",
    "    with torch.no_grad():\n",
    "        # for src, tgt in tqdm(eval_loader, desc='Eval'):\n",
    "        for src, tgt in eval_loader:\n",
    "            src, tgt = src.to(device), tgt.to(device)\n",
    "            tgt_input = tgt[:, :-1]\n",
    "            tgt_output = tgt[:, 1:]\n",
    "\n",
    "            output = model(src, tgt_input)\n",
    "\n",
    "            loss = criterion(output.reshape(-1, output.size(-1)), tgt_output.reshape(-1))\n",
    "            total_loss += loss.item()\n",
    "\n",
    "            predicted = torch.argmax(output, dim=2)\n",
    "            score += ((predicted == tgt_output).sum(dim=1)).sum().item()\n",
    "\n",
    "    total_loss /= len(eval_loader)\n",
    "    score /= (len(eval_loader) * eval_loader.batch_size)\n",
    "    return total_loss, score"
   ]
  },
  {
   "cell_type": "code",
   "execution_count": 9,
   "metadata": {},
   "outputs": [
    {
     "name": "stderr",
     "output_type": "stream",
     "text": [
      "c:\\Users\\venna\\miniconda3\\Lib\\site-packages\\tqdm\\auto.py:21: TqdmWarning: IProgress not found. Please update jupyter and ipywidgets. See https://ipywidgets.readthedocs.io/en/stable/user_install.html\n",
      "  from .autonotebook import tqdm as notebook_tqdm\n"
     ]
    }
   ],
   "source": [
    "# set seed\n",
    "# torch.random.manual_seed(1)\n",
    "\n",
    "# setup model\n",
    "src_vocab_size = 26\n",
    "tgt_vocab_size = src_vocab_size + 1  # add the <s> token\n",
    "d_model = 64\n",
    "ffn_hidden = 256\n",
    "nhead = 4\n",
    "num_encoder_layers = num_decoder_layers = 2\n",
    "\n",
    "model = Freddy(\n",
    "    d_model=d_model,\n",
    "    nhead=nhead,\n",
    "    num_encoder_layers=num_encoder_layers,\n",
    "    num_decoder_layers=num_decoder_layers,\n",
    "    ffn_hidden=ffn_hidden,\n",
    "    vocab_size=tgt_vocab_size,\n",
    "    max_seq_len=128\n",
    ").to(device)\n",
    "\n",
    "learning_rate = 0.0001\n",
    "epochs = 100\n",
    "device = torch.device(\"cuda\" if torch.cuda.is_available() else \"cpu\")\n",
    "\n",
    "criterion = nn.CrossEntropyLoss()\n",
    "optimizer = optim.Adam(model.parameters(), lr=learning_rate)"
   ]
  },
  {
   "cell_type": "code",
   "execution_count": 10,
   "metadata": {},
   "outputs": [
    {
     "data": {
      "image/png": "[encoded data removed]",
      "text/plain": [
       "<Figure size 1000x500 with 1 Axes>"
      ]
     },
     "metadata": {},
     "output_type": "display_data"
    },
    {
     "name": "stdout",
     "output_type": "stream",
     "text": [
      "20, 0.6112197770012749, 5.25\n",
      "Stopped Early, Best Eval Loss: 0.6112197770012749\n"
     ]
    }
   ],
   "source": [
    "# import seaborn as sns\n",
    "import matplotlib.pyplot as plt\n",
    "from IPython.display import display, clear_output\n",
    "\n",
    "# sns.set_style('darkgrid')\n",
    "\n",
    "def plot_losses(train_losses, eval_losses):\n",
    "    plt.figure(figsize=(10, 5))\n",
    "    plt.plot(train_losses, label='Training Loss')\n",
    "    plt.plot(eval_losses, label='Validation Loss')\n",
    "    plt.xlabel('Epoch')\n",
    "    plt.ylabel('Loss')\n",
    "    plt.legend()\n",
    "    plt.show()\n",
    "\n",
    "# train loop\n",
    "train_losses = []\n",
    "eval_losses = []\n",
    "\n",
    "best_eval_loss = float('inf')\n",
    "patience = 20\n",
    "counter = 0\n",
    "\n",
    "train_loader = get_dataloader('data/train_data.csv', batch_size=32)\n",
    "eval_loader = get_dataloader('data/eval_data.csv', batch_size=32)\n",
    "\n",
    "for epoch in range(epochs):\n",
    "    clear_output(wait=True)\n",
    "\n",
    "    train_loss = train_step(model, train_loader, criterion, optimizer)\n",
    "    eval_loss, score = eval_step(model, eval_loader, criterion)\n",
    "\n",
    "    train_losses.append(train_loss)\n",
    "    eval_losses.append(eval_loss)\n",
    "    plot_losses(train_losses, eval_losses)\n",
    "\n",
    "    if eval_loss < best_eval_loss:\n",
    "        best_eval_loss = eval_loss\n",
    "        torch.save(model.state_dict(), 'model.pth')\n",
    "        counter = 0\n",
    "\n",
    "    print(f'{counter}, {best_eval_loss}, {score}')\n",
    "\n",
    "    if counter >= patience:\n",
    "        print(f\"Stopped Early, Best Eval Loss: {best_eval_loss}\")\n",
    "        break\n",
    "\n",
    "    counter += 1"
   ]
  },
  {
   "cell_type": "markdown",
   "metadata": {},
   "source": [
    "# Load Model"
   ]
  },
  {
   "cell_type": "code",
   "execution_count": 27,
   "metadata": {},
   "outputs": [
    {
     "data": {
      "text/plain": [
       "Freddy(\n",
       "  (src_embedding): Embedding(27, 64)\n",
       "  (tgt_embedding): Embedding(27, 64)\n",
       "  (positional_embeddings): Embedding(128, 64)\n",
       "  (transformer): Transformer(\n",
       "    (encoder): Encoder(\n",
       "      (encoders): ModuleList(\n",
       "        (0-1): 2 x EncoderLayer(\n",
       "          (self_attention): MultiHeadAttention(\n",
       "            (W_query): Linear(in_features=64, out_features=64, bias=True)\n",
       "            (W_key): Linear(in_features=64, out_features=64, bias=True)\n",
       "            (W_value): Linear(in_features=64, out_features=64, bias=True)\n",
       "            (projection): Linear(in_features=64, out_features=64, bias=True)\n",
       "          )\n",
       "          (self_attention_layer_norm): LayerNorm((64,), eps=1e-05, elementwise_affine=True)\n",
       "          (feed_forward): FeedForward(\n",
       "            (linear1): Linear(in_features=64, out_features=256, bias=True)\n",
       "            (linear2): Linear(in_features=256, out_features=64, bias=True)\n",
       "          )\n",
       "          (feed_forward_layer_norm): LayerNorm((64,), eps=1e-05, elementwise_affine=True)\n",
       "        )\n",
       "      )\n",
       "    )\n",
       "    (decoder): Decoder(\n",
       "      (decoders): ModuleList(\n",
       "        (0-1): 2 x DecoderLayer(\n",
       "          (self_attention): MultiHeadAttention(\n",
       "            (W_query): Linear(in_features=64, out_features=64, bias=True)\n",
       "            (W_key): Linear(in_features=64, out_features=64, bias=True)\n",
       "            (W_value): Linear(in_features=64, out_features=64, bias=True)\n",
       "            (projection): Linear(in_features=64, out_features=64, bias=True)\n",
       "          )\n",
       "          (self_attention_layer_norm): LayerNorm((64,), eps=1e-05, elementwise_affine=True)\n",
       "          (encoder_decoder_attention): MultiHeadAttention(\n",
       "            (W_query): Linear(in_features=64, out_features=64, bias=True)\n",
       "            (W_key): Linear(in_features=64, out_features=64, bias=True)\n",
       "            (W_value): Linear(in_features=64, out_features=64, bias=True)\n",
       "            (projection): Linear(in_features=64, out_features=64, bias=True)\n",
       "          )\n",
       "          (encoder_decoder_layer_norm): LayerNorm((64,), eps=1e-05, elementwise_affine=True)\n",
       "          (feed_forward): FeedForward(\n",
       "            (linear1): Linear(in_features=64, out_features=256, bias=True)\n",
       "            (linear2): Linear(in_features=256, out_features=64, bias=True)\n",
       "          )\n",
       "          (feed_forward_layer_norm): LayerNorm((64,), eps=1e-05, elementwise_affine=True)\n",
       "        )\n",
       "      )\n",
       "    )\n",
       "  )\n",
       "  (linear): Linear(in_features=64, out_features=27, bias=True)\n",
       ")"
      ]
     },
     "execution_count": 27,
     "metadata": {},
     "output_type": "execute_result"
    }
   ],
   "source": [
    "src_vocab_size = 26\n",
    "tgt_vocab_size = src_vocab_size + 1  # add the <s> token\n",
    "d_model = 64\n",
    "ffn_hidden = 256\n",
    "nhead = 4\n",
    "num_encoder_layers = num_decoder_layers = 2\n",
    "\n",
    "model = Freddy(\n",
    "    d_model=d_model,\n",
    "    nhead=nhead,\n",
    "    num_encoder_layers=num_encoder_layers,\n",
    "    num_decoder_layers=num_decoder_layers,\n",
    "    ffn_hidden=ffn_hidden,\n",
    "    vocab_size=tgt_vocab_size,\n",
    "    max_seq_len=128\n",
    ").to(device)\n",
    "model.load_state_dict(torch.load('model.pth', map_location=device))\n",
    "\n",
    "model.eval()"
   ]
  },
  {
   "cell_type": "code",
   "execution_count": 28,
   "metadata": {},
   "outputs": [
    {
     "data": {
      "text/plain": [
       "(0.6112197770012749, 4.963789682539683)"
      ]
     },
     "execution_count": 28,
     "metadata": {},
     "output_type": "execute_result"
    }
   ],
   "source": [
    "def eval_step(model, eval_loader, criterion):\n",
    "    model.eval()\n",
    "    total_loss = 0\n",
    "    score = 0\n",
    "    with torch.no_grad():\n",
    "        # for src, tgt in tqdm(eval_loader, desc='Eval'):\n",
    "        for src, tgt in eval_loader:\n",
    "            src, tgt = src.to(device), tgt.to(device)\n",
    "            tgt_input = tgt[:, :-1]\n",
    "            tgt_output = tgt[:, 1:]\n",
    "\n",
    "            output = model(src, tgt_input)\n",
    "\n",
    "            loss = criterion(output.reshape(-1, output.size(-1)), tgt_output.reshape(-1))\n",
    "            total_loss += loss.item()\n",
    "\n",
    "            predicted = torch.argmax(output, dim=2)\n",
    "            score += ((predicted == tgt_output).sum(dim=1)).sum().item()\n",
    "\n",
    "    total_loss /= len(eval_loader)\n",
    "    score /= (len(eval_loader) * eval_loader.batch_size)\n",
    "    return total_loss, score\n",
    "\n",
    "eval_step(model, eval_loader, criterion)"
   ]
  },
  {
   "cell_type": "markdown",
   "metadata": {},
   "source": [
    "# Evaluation"
   ]
  },
  {
   "cell_type": "code",
   "execution_count": 20,
   "metadata": {},
   "outputs": [],
   "source": [
    "def check(pred: str, true: str):\n",
    "    correct = 0\n",
    "    for a, b in zip(pred, true):\n",
    "        if a == b:\n",
    "            correct += 1\n",
    "    return correct\n",
    "\n",
    "# plot distribution of how many characters were predicted correct\n",
    "def plot_dist(model, file_path):\n",
    "    model.eval()\n",
    "    data = pd.read_csv(file_path)\n",
    "\n",
    "    sentences = data['Sentence'].tolist()\n",
    "    transformed_sentences = data['Transformed sentence'].tolist()\n",
    "    generated_sentences = []\n",
    "\n",
    "    for sentence in tqdm(sentences, \"Generating\"):\n",
    "        generated_sentences.append(model.predict(sentence))\n",
    "    \n",
    "    scores = {correct: 0 for correct in range(9)}\n",
    "    for pred, true in zip(generated_sentences, transformed_sentences):\n",
    "        scores[check(pred, true)] += 1\n",
    "    \n",
    "    plt.bar(scores.keys(), scores.values())\n",
    "    plt.xlabel('Number of Characters Correct')\n",
    "    plt.ylabel('Number of Sentences')\n",
    "    plt.show()"
   ]
  },
  {
   "cell_type": "code",
   "execution_count": 21,
   "metadata": {},
   "outputs": [
    {
     "name": "stderr",
     "output_type": "stream",
     "text": [
      "Generating: 100%|██████████| 2000/2000 [02:05<00:00, 15.96it/s]\n"
     ]
    },
    {
     "data": {
      "image/png": "[encoded data removed]",
      "text/plain": [
       "<Figure size 640x480 with 1 Axes>"
      ]
     },
     "metadata": {},
     "output_type": "display_data"
    }
   ],
   "source": [
    "plot_dist(model, \"Data/eval_data.csv\")"
   ]
  },
  {
   "cell_type": "markdown",
   "metadata": {},
   "source": [
    "# Plot Matrices"
   ]
  },
  {
   "cell_type": "code",
   "execution_count": 29,
   "metadata": {},
   "outputs": [
    {
     "data": {
      "text/plain": [
       "<torch.utils.hooks.RemovableHandle at 0x1d626c0d3d0>"
      ]
     },
     "execution_count": 29,
     "metadata": {},
     "output_type": "execute_result"
    }
   ],
   "source": [
    "attn_weights = {}\n",
    "\n",
    "def get_weights(name):\n",
    "    def hook(model, input, output):\n",
    "        attn_weights[name] = output[1].detach()\n",
    "    return hook\n",
    "\n",
    "model.transformer.decoder.decoders[-1].encoder_decoder_attention.register_forward_hook(get_weights('weights'))"
   ]
  },
  {
   "cell_type": "code",
   "execution_count": 40,
   "metadata": {},
   "outputs": [
    {
     "data": {
      "text/plain": [
       "'vynxrxdv'"
      ]
     },
     "execution_count": 40,
     "metadata": {},
     "output_type": "execute_result"
    }
   ],
   "source": [
    "model.predict(\"rycvotef\")"
   ]
  },
  {
   "cell_type": "code",
   "execution_count": 41,
   "metadata": {},
   "outputs": [
    {
     "data": {
      "text/plain": [
       "torch.Size([1, 4, 8, 8])"
      ]
     },
     "execution_count": 41,
     "metadata": {},
     "output_type": "execute_result"
    }
   ],
   "source": [
    "attn_weights['weights'].shape"
   ]
  },
  {
   "cell_type": "code",
   "execution_count": 42,
   "metadata": {},
   "outputs": [
    {
     "data": {
      "image/png": "[encoded data removed]",
      "text/plain": [
       "<Figure size 1000x1000 with 4 Axes>"
      ]
     },
     "metadata": {},
     "output_type": "display_data"
    }
   ],
   "source": [
    "weights = attn_weights['weights'].cpu()\n",
    "\n",
    "inputs = \"rycvotef\"\n",
    "outputs = \"vynxrxdv\"\n",
    "\n",
    "fig, axes = plt.subplots(2, 2, figsize=(10, 10))\n",
    "for i in range(4):\n",
    "    ax = axes[i//2, i%2]\n",
    "    ax.imshow(weights[0, i], cmap='viridis', aspect='equal')\n",
    "    ax.set_xticks(range(len(inputs)))\n",
    "    ax.set_yticks(range(len(outputs)))\n",
    "    ax.set_xticklabels(list(inputs))\n",
    "    ax.set_yticklabels(list(outputs))\n",
    "    ax.set_title(f'Head {i+1}')\n",
    "\n",
    "\n",
    "plt.tight_layout()\n",
    "plt.show()"
   ]
  }
 ],
 "metadata": {
  "kernelspec": {
   "display_name": "llm",
   "language": "python",
   "name": "python3"
  },
  "language_info": {
   "codemirror_mode": {
    "name": "ipython",
    "version": 3
   },
   "file_extension": ".py",
   "mimetype": "text/x-python",
   "name": "python",
   "nbconvert_exporter": "python",
   "pygments_lexer": "ipython3",
   "version": "3.11.5"
  },
  "orig_nbformat": 4
 },
 "nbformat": 4,
 "nbformat_minor": 2
}
